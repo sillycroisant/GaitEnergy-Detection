{
 "cells": [
  {
   "cell_type": "code",
   "execution_count": 2,
   "metadata": {},
   "outputs": [],
   "source": [
    "import os\n",
    "import numpy as np\n",
    "import cv2\n",
    "import matplotlib.pyplot as plt\n",
    "from tqdm import tqdm"
   ]
  },
  {
   "cell_type": "code",
   "execution_count": 3,
   "metadata": {},
   "outputs": [],
   "source": [
    "# PATH\n",
    "# example path\n",
    "path = \"C:/Users/HUY/Desktop/my_project/data/001/bg-01/090\"\n",
    "\n",
    "# others path\n",
    "root_folder = \"C:/Users/HUY/Desktop/my_project/data\"\n",
    "bulk = \"C:/Users/HUY/Desktop/my_project/bulk\"\n",
    "final_data = \"C:/Users/HUY/Desktop/my_project/final_data\"\n",
    "synthetic_path = \"C:/Users/HUY/Desktop/my_project/synthetic_data\"\n"
   ]
  },
  {
   "cell_type": "code",
   "execution_count": 4,
   "metadata": {},
   "outputs": [
    {
     "data": {
      "text/plain": [
       "<matplotlib.image.AxesImage at 0x1aa5b259300>"
      ]
     },
     "execution_count": 4,
     "metadata": {},
     "output_type": "execute_result"
    },
    {
     "data": {
      "image/png": "[encoded data removed]",
      "text/plain": [
       "<Figure size 640x480 with 1 Axes>"
      ]
     },
     "metadata": {},
     "output_type": "display_data"
    }
   ],
   "source": [
    "# 1. Preprocess silhouettes (đã test xong) chạy oke\n",
    "# chuyển ảnh silhoute thành ảnh nhị phân trắng đen\n",
    "\n",
    "def preprocess_silhouettes(folder_path):\n",
    "    silhouettes = []\n",
    "    # tạo danh sách đường dẫn của tất cả ảnh trong folder\n",
    "    image_paths = [os.path.join(folder_path, f) for f in os.listdir(folder_path) if f.lower().endswith(('.png', '.jpg', '.jpeg'))]\n",
    "    \n",
    "    if not image_paths: # kiểm tra đường dẫn hợp lệlệ\n",
    "        raise ValueError(\"No valid image files found in the folder.\")\n",
    "    \n",
    "    for path in image_paths: # đọc mỗi tấm ảnh và lấy ngưỡng cho nó\n",
    "        img = cv2.imread(path, cv2.IMREAD_GRAYSCALE)\n",
    "        if img is None:\n",
    "            print(f\"⚠️ Warning: Cannot read image at {path}\")\n",
    "            break\n",
    "        \n",
    "        _, binary = cv2.threshold(img, 127, 1, cv2.THRESH_BINARY)\n",
    "        binary = binary[:,10:-10] # crop ảnh từ 64x64 thành 64x44\n",
    "        silhouettes.append(binary)\n",
    "    \n",
    "    return np.array(silhouettes)\n",
    "\n",
    "# test\n",
    "sil = preprocess_silhouettes(path)\n",
    "sil.shape\n",
    "plt.imshow(sil[5]) # OKE"
   ]
  },
  {
   "cell_type": "code",
   "execution_count": 5,
   "metadata": {},
   "outputs": [
    {
     "name": "stdout",
     "output_type": "stream",
     "text": [
      "(64, 44)\n"
     ]
    },
    {
     "data": {
      "image/png": "[encoded data removed]",
      "text/plain": [
       "<Figure size 640x480 with 1 Axes>"
      ]
     },
     "metadata": {},
     "output_type": "display_data"
    }
   ],
   "source": [
    "# 2. Compute Gait Energy Image # sử dụng ảnh silhoute trắng đen trước đó để tính ảnh GEI\n",
    "def compute_gei(silhouettes):\n",
    "    return np.mean(silhouettes, axis=0)\n",
    "\n",
    "gei = compute_gei(sil)\n",
    "print(gei.shape) # OKE\n",
    "\n",
    "def show_image(image, title=\"Image\", scale=7):\n",
    "    h, w = image.shape[0], image.shape[1]\n",
    "    resized_image = cv2.resize(image, (w * scale, h * scale), interpolation=cv2.INTER_NEAREST)\n",
    "    plt.imshow(resized_image)\n",
    "    \n",
    "show_image(gei, scale = 1) # OKE"
   ]
  },
  {
   "cell_type": "code",
   "execution_count": 14,
   "metadata": {},
   "outputs": [],
   "source": [
    "# lưu ảnh vào thư mục đã chọn\n",
    "def save_image(image, folder_path, image_name):\n",
    "    if not os.path.exists(folder_path):\n",
    "        os.makedirs(folder_path)\n",
    "    save_path = f\"{folder_path}/{image_name}\"\n",
    "    cv2.imwrite(save_path, image)\n",
    "    # print(f\"Image saved at {save_path}\")"
   ]
  },
  {
   "cell_type": "code",
   "execution_count": null,
   "metadata": {},
   "outputs": [
    {
     "name": "stderr",
     "output_type": "stream",
     "text": [
      "100%|██████████| 10/10 [01:07<00:00,  6.72s/it]"
     ]
    },
    {
     "name": "stdout",
     "output_type": "stream",
     "text": [
      "✅ Processed all Gait Energy imgs!\n"
     ]
    },
    {
     "name": "stderr",
     "output_type": "stream",
     "text": [
      "\n"
     ]
    }
   ],
   "source": [
    "# hàm xử lý ảnh GEI\n",
    "def gei_process(root_folder, bulk):\n",
    "    for object in tqdm(os.listdir(root_folder)):\n",
    "        for folder in os.listdir(f\"{root_folder}/{object}\"):\n",
    "            for direction in os.listdir(f\"{root_folder}/{object}/{folder}\"):\n",
    "                binary_imgs = preprocess_silhouettes(f\"{root_folder}/{object}/{folder}/{direction}\")\n",
    "                gei = compute_gei(binary_imgs)\n",
    "                save_image((gei*255).astype(np.uint8), bulk, f\"{object}-{folder}-{direction}.jpg\")\n",
    "    print(\"✅ Processed all Gait Energy imgs!\")\n",
    "    \n",
    "gei_process(root_folder, bulk) # OKE"
   ]
  },
  {
   "cell_type": "markdown",
   "metadata": {},
   "source": [
    "# !!! CHỈNH ĐOẠN CODE PHÍA DƯỚI ĐỂ CHIA DỮ LIỆU TRAIN VÀ TEST"
   ]
  },
  {
   "cell_type": "code",
   "execution_count": 16,
   "metadata": {},
   "outputs": [
    {
     "name": "stderr",
     "output_type": "stream",
     "text": [
      "100%|██████████| 1100/1100 [00:15<00:00, 69.29it/s]"
     ]
    },
    {
     "name": "stdout",
     "output_type": "stream",
     "text": [
      "✅ Splitted all the data into train and test sets.\n"
     ]
    },
    {
     "name": "stderr",
     "output_type": "stream",
     "text": [
      "\n"
     ]
    }
   ],
   "source": [
    "def split_data(bulk, final_path):\n",
    "    # tạo folder lưu trữ dữ liệu\n",
    "    if not os.path.exists(final_path):\n",
    "        os.makedirs(final_path)\n",
    "    # tạo nơi lưu trữ tập huấn luyện\n",
    "    train_path = f\"{final_path}/train\"\n",
    "    if not os.path.exists(train_path):\n",
    "        os.makedirs(train_path)\n",
    "    # tạo nơi lưu trữ tập kiểm tra\n",
    "    test_path = f\"{final_path}/test\"\n",
    "    if not os.path.exists(test_path):\n",
    "        os.makedirs(test_path)\n",
    "    for img in tqdm(os.listdir(bulk)):\n",
    "        if \"nm-01\" in img or \"nm-02\" in img or \"nm-03\" in img or \"nm-04\" in img  or \"cl-01\" in img or \"bg-01\" in img:\n",
    "            im = cv2.imread(f\"{bulk}/{img}\", cv2.IMREAD_GRAYSCALE)\n",
    "            save_image(im,train_path,img)\n",
    "            \n",
    "        if \"nm-05\" in img or \"nm-06\" in img or \"cl-02\" in img  or \"bg-02\" in img:\n",
    "            im = cv2.imread(f\"{bulk}/{img}\", cv2.IMREAD_GRAYSCALE)\n",
    "            save_image(im,test_path,img)\n",
    "\n",
    "    print(\"✅ Splitted all the data into train and test sets.\")\n",
    "    \n",
    "split_data(bulk, final_data) # OKE"
   ]
  },
  {
   "cell_type": "code",
   "execution_count": null,
   "metadata": {},
   "outputs": [
    {
     "name": "stdout",
     "output_type": "stream",
     "text": [
      "Creating synthetic images for test\n"
     ]
    },
    {
     "name": "stderr",
     "output_type": "stream",
     "text": [
      "100%|██████████| 440/440 [00:10<00:00, 42.51it/s]\n"
     ]
    },
    {
     "name": "stdout",
     "output_type": "stream",
     "text": [
      "Creating synthetic images for train\n"
     ]
    },
    {
     "name": "stderr",
     "output_type": "stream",
     "text": [
      "100%|██████████| 660/660 [00:13<00:00, 47.74it/s]"
     ]
    },
    {
     "name": "stdout",
     "output_type": "stream",
     "text": [
      "✅ Finished creating synthetic images\n"
     ]
    },
    {
     "name": "stderr",
     "output_type": "stream",
     "text": [
      "\n"
     ]
    }
   ],
   "source": [
    "# 4. Tạo thêm ra các ảnh synthetic để làm cho bộ dữ liệu lớn hơn chút\n",
    "\n",
    "def create_synthetic(final_data, synthetic_path, iter = 3, k = 2):\n",
    "    train_path =  f\"{synthetic_path}/train\"\n",
    "    test_path = f\"{synthetic_path}/test\"\n",
    "    if not os.path.exists(synthetic_path):\n",
    "        os.makedirs(synthetic_path)\n",
    "    if not os.path.exists(train_path):\n",
    "        os.makedirs(train_path)\n",
    "    if not os.path.exists(test_path):\n",
    "        os.makedirs(test_path)\n",
    "    for folder in os.listdir(final_data):\n",
    "        print(f\"Creating synthetic images for {folder}\")\n",
    "        for im in tqdm(os.listdir(f\"{final_data}/{folder}\")):\n",
    "            image = cv2.imread(f\"{final_data}/{folder}/{im}\", cv2.IMREAD_GRAYSCALE)\n",
    "            x, y = image.shape\n",
    "            for i in range(1, 1 + iter):\n",
    "                temp = np.copy(image)\n",
    "                \n",
    "                cut_bot = temp[0:x-i*k, :]\n",
    "                cut_top = temp[i*k:x, :]\n",
    "                \n",
    "                cut_bot = cv2.resize(cut_bot, (y,x))\n",
    "                cut_top = cv2.resize(cut_top, (y,x))\n",
    "                \n",
    "                im = im[0:13]\n",
    "                if folder == \"train\": path = train_path\n",
    "                else: path = test_path\n",
    "                \n",
    "                save_image(cut_bot, path , f\"{im}-t-{i}.jpg \")\n",
    "                # print({cut_bot.shape})\n",
    "                save_image(cut_top, path, f\"{im}-t-{i+iter}.jpg \")\n",
    "                # print({cut_top.shape})\n",
    "            \n",
    "    print(\"✅ Finished creating synthetic images\")\n",
    "            \n",
    "create_synthetic(final_data, synthetic_path)\n",
    "\n",
    "# số dữ liệu khá chuẩn theo tính toán, có điều dữ liệu người số năm bị thiếu góc chính diện "
   ]
  },
  {
   "cell_type": "code",
   "execution_count": null,
   "metadata": {},
   "outputs": [],
   "source": [
    "# HOÀN THÀNH TIỀN XỬ LÝ DỮ LIỆU\n",
    "# > chia dữ liệu ra 2 tập train và test\n",
    "# > tạo thêm 6 ảnh tổng hợp cho mỗi ảnh dữ liệu gốc\n",
    "# > và chia ra thành các train và test"
   ]
  },
  {
   "cell_type": "code",
   "execution_count": 10,
   "metadata": {},
   "outputs": [],
   "source": [
    "import shutil\n",
    "\n",
    "def clear_folder(folder_path):\n",
    "    if not os.path.isdir(folder_path):\n",
    "        print(f\"❌ '{folder_path}' is not a valid directory.\")\n",
    "        return\n",
    "\n",
    "    for item in tqdm(os.listdir(folder_path)):\n",
    "        item_path = os.path.join(folder_path, item)\n",
    "        try:\n",
    "            if os.path.isfile(item_path) or os.path.islink(item_path):\n",
    "                os.remove(item_path)  # delete file or symbolic link\n",
    "            elif os.path.isdir(item_path):\n",
    "                shutil.rmtree(item_path)  # delete folder and its contents\n",
    "        except Exception as e:\n",
    "            print(f\"⚠️ Error deleting '{item_path}': {e}\")\n",
    "\n",
    "    print(f\"✅ All contents of '{folder_path}' have been deleted.\")"
   ]
  },
  {
   "cell_type": "code",
   "execution_count": null,
   "metadata": {},
   "outputs": [
    {
     "name": "stderr",
     "output_type": "stream",
     "text": [
      "0it [00:00, ?it/s]\n"
     ]
    },
    {
     "name": "stdout",
     "output_type": "stream",
     "text": [
      "✅ All contents of 'C:/Users/HUY/Desktop/my_project/bulk' have been deleted.\n"
     ]
    },
    {
     "name": "stderr",
     "output_type": "stream",
     "text": [
      "0it [00:00, ?it/s]\n"
     ]
    },
    {
     "name": "stdout",
     "output_type": "stream",
     "text": [
      "✅ All contents of 'C:/Users/HUY/Desktop/my_project/final_data' have been deleted.\n"
     ]
    },
    {
     "name": "stderr",
     "output_type": "stream",
     "text": [
      "0it [00:00, ?it/s]"
     ]
    },
    {
     "name": "stdout",
     "output_type": "stream",
     "text": [
      "✅ All contents of 'C:/Users/HUY/Desktop/my_project/synthetic_data' have been deleted.\n"
     ]
    },
    {
     "name": "stderr",
     "output_type": "stream",
     "text": [
      "\n"
     ]
    }
   ],
   "source": [
    "# clear_folder(bulk)\n",
    "# clear_folder(final_data)\n",
    "# clear_folder(synthetic_path)"
   ]
  }
 ],
 "metadata": {
  "kernelspec": {
   "display_name": "Python 3",
   "language": "python",
   "name": "python3"
  },
  "language_info": {
   "codemirror_mode": {
    "name": "ipython",
    "version": 3
   },
   "file_extension": ".py",
   "mimetype": "text/x-python",
   "name": "python",
   "nbconvert_exporter": "python",
   "pygments_lexer": "ipython3",
   "version": "3.10.0"
  }
 },
 "nbformat": 4,
 "nbformat_minor": 2
}
