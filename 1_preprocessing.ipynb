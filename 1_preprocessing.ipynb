{
 "cells": [
  {
   "cell_type": "code",
   "execution_count": null,
   "metadata": {},
   "outputs": [],
   "source": [
    "import os\n",
    "import numpy as np\n",
    "import cv2"
   ]
  },
  {
   "cell_type": "code",
   "execution_count": 6,
   "metadata": {},
   "outputs": [
    {
     "data": {
      "text/plain": [
       "(89, 64, 64)"
      ]
     },
     "execution_count": 6,
     "metadata": {},
     "output_type": "execute_result"
    }
   ],
   "source": [
    "# 1. Preprocess silhouettes (đã test xong) chạy oke\n",
    "# chuyển ảnh silhoute thành ảnh nhị phân trắng đen\n",
    "def preprocess_silhouettes(folder_path):\n",
    "    silhouettes = []\n",
    "    # tạo danh sách đường dẫn của tất cả ảnh trong folder\n",
    "    image_paths = [os.path.join(folder_path, f) for f in os.listdir(folder_path) if f.lower().endswith(('.png', '.jpg', '.jpeg'))]\n",
    "    \n",
    "    if not image_paths: # kiểm tra đường dẫn hợp lệlệ\n",
    "        raise ValueError(\"No valid image files found in the folder.\")\n",
    "    \n",
    "    for path in image_paths: # đọc mỗi tấm ảnh và lấy ngưỡng cho nó\n",
    "        img = cv2.imread(path, cv2.IMREAD_GRAYSCALE)\n",
    "        \n",
    "        if img is None:\n",
    "            print(f\"⚠️ Warning: Cannot read image at {path}\")\n",
    "            break\n",
    "        \n",
    "        _, binary = cv2.threshold(img, 127, 1, cv2.THRESH_BINARY)\n",
    "        silhouettes.append(binary)\n",
    "\n",
    "    return np.array(silhouettes)\n",
    "\n",
    "# test\n",
    "path = \"C:/Users/HUY/Desktop/my_project/data/001/bg-01/000\"\n",
    "\n",
    "sil = preprocess_silhouettes(path)\n",
    "sil.shape # OKE"
   ]
  },
  {
   "cell_type": "code",
   "execution_count": 20,
   "metadata": {},
   "outputs": [
    {
     "name": "stdout",
     "output_type": "stream",
     "text": [
      "(64, 64)\n"
     ]
    }
   ],
   "source": [
    "# 2. Compute Gait Energy Image\n",
    "# sử dụng ảnh silhoute trắng đen trước đó để tính ảnh GEI\n",
    "def compute_gei(silhouettes):\n",
    "    return np.mean(silhouettes, axis=0)\n",
    "\n",
    "gei = compute_gei(sil)\n",
    "print(gei.shape) # OKE\n",
    "\n",
    "def show_image(image, title=\"Image\", scale=7):\n",
    "    h, w = image.shape[0], image.shape[1]\n",
    "    resized_image = cv2.resize(image, (w * scale, h * scale), interpolation=cv2.INTER_NEAREST)\n",
    "    cv2.imshow(title, resized_image)\n",
    "    cv2.waitKey(0)\n",
    "    cv2.destroyAllWindows()\n",
    "    \n",
    "show_image(gei) # OKE"
   ]
  },
  {
   "cell_type": "code",
   "execution_count": null,
   "metadata": {},
   "outputs": [],
   "source": [
    "# lưu ảnh vào thư mục đã chọn\n",
    "def save_image(image, folder_path, image_name):\n",
    "    if not os.path.exists(folder_path):\n",
    "        os.makedirs(folder_path)\n",
    "    save_path = f\"{folder_path}/{image_name}\"\n",
    "    cv2.imwrite(save_path, image)\n",
    "    print(f\"✅ Image saved at {save_path}\")"
   ]
  },
  {
   "cell_type": "code",
   "execution_count": null,
   "metadata": {},
   "outputs": [],
   "source": [
    "# hàm xử lý ảnh GEI back\n",
    "root_folder = \"C:/Users/HUY/Desktop/my_project/data\"\n",
    "bulk = \"C:/Users/HUY/Desktop/my_project/bulk\"\n",
    "final_data = \"C:/Users/HUY/Desktop/my_project/final_data\"\n",
    "\n",
    "def gei_process(root_folder, bulk):\n",
    "    for object in os.listdir(root_folder):\n",
    "        for folder in os.listdir(f\"{root_folder}/{object}\"):\n",
    "            for direction in os.listdir(f\"{root_folder}/{object}/{folder}\"):\n",
    "                binary_imgs = preprocess_silhouettes(f\"{root_folder}/{object}/{folder}/{direction}\")\n",
    "                gei = compute_gei(binary_imgs)\n",
    "                save_image((gei*255).astype(np.uint8), bulk, f\"{object}-{folder}-{direction}.jpg\")\n",
    "                # save_image((gei*255).astype(np.uint8),f\"{processed_data}/{object}/{folder}\", f\"{direction}.jpg\") # backup \n",
    "    print(\"Processed all Gait Energy imgs!\")\n",
    "    \n",
    "gei_process(root_folder, bulk) # OKE"
   ]
  },
  {
   "cell_type": "code",
   "execution_count": null,
   "metadata": {},
   "outputs": [],
   "source": [
    "def split_data(bulk, final_path):\n",
    "    # tạo folder lưu trữ dữ liệu\n",
    "    if not os.path.exists(final_path):\n",
    "        os.makedirs(final_path)\n",
    "    # tạo nơi lưu trữ tập huấn luyện\n",
    "    train_path = f\"{final_path}/train\"\n",
    "    if not os.path.exists(train_path):\n",
    "        os.makedirs(train_path)\n",
    "    # tạo nơi lưu trữ tập kiểm tra\n",
    "    test_path = f\"{final_path}/test\"\n",
    "    if not os.path.exists(test_path):\n",
    "        os.makedirs(test_path)\n",
    "    for img in os.listdir(bulk):\n",
    "        if \"nm-01\" in img or \"nm-02\" in img or \"nm-03\" in img or \"nm-04\" in img:\n",
    "            im = cv2.imread(f\"{bulk}/{img}\", cv2.IMREAD_GRAYSCALE)\n",
    "            save_image(im,train_path,img)\n",
    "            \n",
    "        if \"nm-05\" in img or \"nm-06\" in img:\n",
    "            im = cv2.imread(f\"{bulk}/{img}\", cv2.IMREAD_GRAYSCALE)\n",
    "            save_image(im,test_path,img)\n",
    "\n",
    "    print(\"Splitted all the data into train and test sets.\")\n",
    "    \n",
    "# split_data(bulk, final_data) # OKE"
   ]
  },
  {
   "cell_type": "code",
   "execution_count": null,
   "metadata": {},
   "outputs": [
    {
     "name": "stdout",
     "output_type": "stream",
     "text": [
      "1308\n",
      "2616\n"
     ]
    }
   ],
   "source": [
    "# tạo thêm ra các ảnh synthetic để làm cho bộ dữ liệu lớn hơn chút\n",
    "import math\n",
    "synthetic_path = \"C:/Users/HUY/Desktop/my_project/synthetic_data\"\n",
    "\n",
    "def create_synthetic(final_data, synthetic_path, iter = 3, k = 2):\n",
    "    if not os.path.exists(synthetic_path):\n",
    "        os.makedirs(synthetic_path)\n",
    "    if not os.path.exists(f\"{synthetic_path}/train\"):\n",
    "        os.makedirs(f\"{synthetic_path}/train\")\n",
    "    if not os.path.exists(f\"{synthetic_path}/test\"):\n",
    "        os.makedirs(f\"{synthetic_path}/test\")\n",
    "    for folder in os.listdir(final_data):\n",
    "        for im in os.listdir(f\"{final_data}/{folder}\"):\n",
    "            image = cv2.imread(f\"{final_data}/{folder}/{im}\", cv2.IMREAD_GRAYSCALE)\n",
    "            x, y = image.shape\n",
    "            for i in range(1, 1 + iter):\n",
    "                temp = np.copy(image)\n",
    "                cut_bot = temp[0:x-i*k, 0:y]\n",
    "                d = math.floor(x*y/(x-i*k))\n",
    "                cut_bot = cv2.resize(cut_bot, (d, x))\n",
    "                cut_bot = cut_bot[:,i:d-i]\n",
    "                cut_top = temp[i*k:x, 0:y]\n",
    "                cut_top = cv2.resize(cut_top, (d, x))\n",
    "                cut_top = cut_top[:,i:d-i]\n",
    "                if cut_bot.shape[1] == 65: \n",
    "                    cut_bot = cut_bot[:,1:65]\n",
    "                if cut_top.shape[1] == 65:\n",
    "                    cut_top = cut_top[:, 1:65]\n",
    "                \n",
    "                im = im[0:13]\n",
    "                if folder == \"train\": path = train_path\n",
    "                else: path = test_path\n",
    "                save_image(cut_bot, path , f\"{im}-t-{i}.jpg\")\n",
    "                save_image(cut_top, path, f\"{im}-t-{i+3}.jpg\")\n",
    "            \n",
    "\n",
    "# create_synthetic(final_data, synthetic_path)s\n",
    "\n",
    "cnt = 0\n",
    "for im in os.listdir(synthetic_path):\n",
    "    for i in os.listdir(f\"{synthetic_path}/{im}\"):\n",
    "        cnt+= 1\n",
    "    print(cnt)\n",
    "    cnt = 0\n",
    "# số dữ liệu khá chuẩn theo tính toán, có điều dữ liệu người số năm bị thiếu góc chính diện "
   ]
  },
  {
   "cell_type": "code",
   "execution_count": null,
   "metadata": {},
   "outputs": [],
   "source": [
    "# HOÀN THÀNH TIỀN XỬ LÝ DỮ LIỆU\n",
    "# > chia dữ liệu ra 2 tập train và test\n",
    "# > tạo thêm 6 ảnh tổng tổnghopwj cho mỗi ảnh dữ liệu gốc\n",
    "# > và chia ra thành các train và test"
   ]
  }
 ],
 "metadata": {
  "kernelspec": {
   "display_name": "Python 3",
   "language": "python",
   "name": "python3"
  },
  "language_info": {
   "codemirror_mode": {
    "name": "ipython",
    "version": 3
   },
   "file_extension": ".py",
   "mimetype": "text/x-python",
   "name": "python",
   "nbconvert_exporter": "python",
   "pygments_lexer": "ipython3",
   "version": "3.12.6"
  }
 },
 "nbformat": 4,
 "nbformat_minor": 2
}
