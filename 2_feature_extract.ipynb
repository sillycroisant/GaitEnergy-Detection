{
 "cells": [
  {
   "cell_type": "code",
   "execution_count": 1,
   "metadata": {},
   "outputs": [],
   "source": [
    "import cv2\n",
    "import numpy as np\n",
    "import os\n",
    "from sklearn.decomposition import PCA  "
   ]
  },
  {
   "cell_type": "code",
   "execution_count": 76,
   "metadata": {},
   "outputs": [
    {
     "name": "stdout",
     "output_type": "stream",
     "text": [
      "Hoàn thành tải dữ liệu lên từ C:/Users/HUY/Desktop/my_project/final_data\n",
      "Hoàn thành tải dữ liệu lên từ C:/Users/HUY/Desktop/my_project/synthetic_data\n",
      "40 20 40 20\n",
      "480 240 480 240\n"
     ]
    }
   ],
   "source": [
    "# showing image\n",
    "def show_image(image, title=\"Image\", scale=5):\n",
    "    h, w = image.shape\n",
    "    resized_image = cv2.resize(image, (w * scale, h * scale), interpolation=cv2.INTER_NEAREST)\n",
    "    cv2.imshow(title, resized_image)\n",
    "    cv2.waitKey(0)\n",
    "    cv2.destroyAllWindows()\n",
    "    \n",
    "# load data\n",
    "\n",
    "def load_data(folder_paths, view = \"000\"):\n",
    "    train, test = [], []\n",
    "    for folder in os.listdir(folder_paths):\n",
    "        if folder == \"train\":\n",
    "            tr_labels = []\n",
    "            for img in os.listdir(f\"{folder_paths}/{folder}\"):\n",
    "                if view in img:\n",
    "                    im = np.array(cv2.imread(f\"{folder_paths}/{folder}/{img}\", cv2.IMREAD_GRAYSCALE))\n",
    "                    tr_labels.append(img[0:3])\n",
    "                    train.append(im)\n",
    "        if folder == \"test\":\n",
    "            te_labels = []\n",
    "            for img in os.listdir(f\"{folder_paths}/{folder}\"):\n",
    "                if view in img:\n",
    "                    im = np.array(cv2.imread(f\"{folder_paths}/{folder}/{img}\", cv2.IMREAD_GRAYSCALE))\n",
    "                    te_labels.append(img[0:3])\n",
    "                    test.append(im)\n",
    "    print(f\"Hoàn thành tải dữ liệu lên từ {folder_paths}\")\n",
    "    return train, test, tr_labels, te_labels\n",
    "\n",
    "final_data = \"C:/Users/HUY/Desktop/my_project/final_data\"\n",
    "synthetic_path = \"C:/Users/HUY/Desktop/my_project/synthetic_data\"          \n",
    "x_rtrain, x_rtest, y_rtrain, y_rtest = load_data(final_data, \"090\")\n",
    "x_strain, x_stest, y_strain, y_stest = load_data(synthetic_path, \"090\")\n",
    "print(len(x_rtrain), len(x_rtest), len(y_rtrain), len(y_rtest))\n",
    "print(len(x_strain), len(x_stest), len(y_strain), len(y_stest))"
   ]
  },
  {
   "cell_type": "code",
   "execution_count": 89,
   "metadata": {},
   "outputs": [
    {
     "name": "stdout",
     "output_type": "stream",
     "text": [
      "Kích thước tập train và labels là 520 520\n",
      "Kích thước tập test và labels là 260 260\n"
     ]
    }
   ],
   "source": [
    "x_train, y_train = x_rtrain + x_strain, y_rtrain + y_strain\n",
    "x_test, y_test = x_rtest + x_stest, y_rtest + y_stest\n",
    "\n",
    "for i in range(len(y_train)):\n",
    "    match y_train[i]:\n",
    "        case '001': \n",
    "            y_train[i] = 0\n",
    "        case '002':\n",
    "            y_train[i] = 1\n",
    "        case '003':\n",
    "            y_train[i] = 2\n",
    "        case '004':\n",
    "            y_train[i] = 3\n",
    "        case '005':\n",
    "            y_train[i] = 4\n",
    "        case '006':\n",
    "            y_train[i] = 5\n",
    "        case '007':\n",
    "            y_train[i] = 6\n",
    "        case '008':\n",
    "            y_train[i] = 7\n",
    "        case '009':\n",
    "            y_train[i] = 8\n",
    "        case '010':\n",
    "            y_train[i] = 9\n",
    "\n",
    "for i in range(len(y_test)):\n",
    "    match y_test[i]:\n",
    "        case '001': \n",
    "            y_test[i] = 0\n",
    "        case '002':\n",
    "            y_test[i] = 1\n",
    "        case '003':\n",
    "            y_test[i] = 2\n",
    "        case '004':\n",
    "            y_test[i] = 3\n",
    "        case '005':\n",
    "            y_test[i] = 4\n",
    "        case '006':\n",
    "            y_test[i] = 5\n",
    "        case '007':\n",
    "            y_test[i] = 6\n",
    "        case '008':\n",
    "            y_test[i] = 7\n",
    "        case '009':\n",
    "            y_test[i] = 8\n",
    "        case '010':\n",
    "            y_test[i] = 9\n",
    "\n",
    "y_train, y_test = np.array(y_train), np.array(y_test)\n",
    "print(f\"Kích thước tập train và labels là {len(x_train)} {len(y_train)}\")\n",
    "print(f\"Kích thước tập test và labels là {len(x_test)} {len(y_test)}\")\n",
    "# print(y_train)"
   ]
  },
  {
   "cell_type": "code",
   "execution_count": 4,
   "metadata": {},
   "outputs": [],
   "source": [
    "# 4. Implement PCA manually\n",
    "# dữ liệu đưa vào PCA là dữ liệu 2 chiều (n x (64x64)) w. n = số lượng dữ liệu trong tập data\n",
    "def pca_transform(data, n_components):\n",
    "    # input\n",
    "    #   data \n",
    "    #   number of components\n",
    "    # output\n",
    "    #   the transformed data\n",
    "    #   eigen vectors \n",
    "    f_data = []\n",
    "    for i in data:\n",
    "        f_data.append(i.flatten())\n",
    "\n",
    "    mean = np.mean(f_data, axis=0)\n",
    "    centered_data = f_data - mean\n",
    "    covariance_matrix = np.cov(centered_data, rowvar=False)\n",
    "    eigenvalues, eigenvectors = np.linalg.eigh(covariance_matrix)\n",
    "    sorted_indices = np.argsort(eigenvalues)[::-1]\n",
    "    eigenvectors = eigenvectors[:, sorted_indices[:n_components]]\n",
    "    transformed_data = np.dot(centered_data, eigenvectors)\n",
    "    return transformed_data, eigenvectors\n",
    "\n",
    "# pca_data , pca_eigen = pca_transform(x_train, 300)"
   ]
  },
  {
   "cell_type": "code",
   "execution_count": 98,
   "metadata": {},
   "outputs": [
    {
     "name": "stdout",
     "output_type": "stream",
     "text": [
      "(520, 16) (260, 16)\n",
      "Vector đặc trưng PCA:\n",
      "[-196.49155885  385.99839924 -230.02106919 -246.07948653 -116.64690618\n",
      "    5.52249122 -301.78246617  295.2184611   170.7668675   313.93907582\n",
      "  -25.24523338 -185.30831981  119.54127468 -121.13395932  -85.40413036\n",
      " -148.65615865],\n",
      "Nhãn dán: 0\n"
     ]
    }
   ],
   "source": [
    "# 95 -> 14 ~ 13\n",
    "# 96 -> 15 ~ 14\n",
    "# 97 -> 16 ~ 15\n",
    "# 98 -> 17 ~ 16\n",
    "# 99 -> 18 ~ 17\n",
    "# ==> chọn số component = 16 = 2^4\n",
    "\n",
    "pca = PCA(n_components = 16)\n",
    "pca_data = pca.fit_transform([x.flatten() for x in x_train])\n",
    "pca_test = pca.transform([x.flatten() for x in x_test])\n",
    "\n",
    "i = 0\n",
    "print(pca_data.shape, pca_test.shape)\n",
    "print(f\"Vector đặc trưng PCA:\\n{pca_data[i]},\\nNhãn dán: {y_train[i]}\")\n",
    "x_train = pca_data\n",
    "x_test = pca_test"
   ]
  },
  {
   "cell_type": "markdown",
   "metadata": {},
   "source": [
    "## Mình sẽ thử với 3 mô hình khác nhau\n",
    "### Decision Tree + XGBoost\n",
    "### Mạng CNN\n",
    "### Supported Vector MachineMachine"
   ]
  },
  {
   "cell_type": "code",
   "execution_count": 66,
   "metadata": {},
   "outputs": [],
   "source": [
    "from sklearn.model_selection import train_test_split\n",
    "from sklearn.ensemble import RandomForestClassifier\n",
    "from sklearn.metrics import accuracy_score"
   ]
  },
  {
   "cell_type": "code",
   "execution_count": 99,
   "metadata": {},
   "outputs": [
    {
     "name": "stdout",
     "output_type": "stream",
     "text": [
      "Accuracy: 96.54%\n",
      "Accuracy: 97.31%\n",
      "Accuracy: 96.54%\n",
      "Accuracy: 97.69%\n",
      "Accuracy: 96.92%\n",
      "Accuracy: 96.54%\n",
      "Accuracy: 96.54%\n",
      "Accuracy: 96.54%\n",
      "Accuracy: 96.15%\n",
      "Accuracy: 97.31%\n",
      "Average Accuracy: 96.81%\n"
     ]
    }
   ],
   "source": [
    "# phân loại bằng RandomForest\n",
    "accuracy = []\n",
    "for i in range(10):\n",
    "    rf_model = RandomForestClassifier(\n",
    "        n_estimators=300, max_depth=20, \n",
    "        min_samples_split=2,min_samples_leaf=1,\n",
    "        max_features='sqrt',bootstrap=True\n",
    "        )\n",
    "    rf_model.fit(x_train, y_train)\n",
    "    y_pred = rf_model.predict(pca_test)\n",
    "    \n",
    "    accuracy.append(accuracy_score(y_test, y_pred))\n",
    "    print(f'Accuracy: {accuracy[i] * 100:.2f}%')\n",
    "\n",
    "print(f'Average Accuracy: {np.mean(accuracy) * 100:.2f}%')"
   ]
  },
  {
   "cell_type": "code",
   "execution_count": 100,
   "metadata": {},
   "outputs": [
    {
     "name": "stdout",
     "output_type": "stream",
     "text": [
      "Accuracy: 93.46%\n"
     ]
    }
   ],
   "source": [
    "# phân loại bằng XGBoost\n",
    "from xgboost import XGBClassifier\n",
    "\n",
    "xgb_model = XGBClassifier(\n",
    "    n_estimators=500, \n",
    "    max_depth=16, \n",
    "    learning_rate=0.01,\n",
    "    )\n",
    "xgb_model.fit(x_train, y_train)\n",
    "y_pred = xgb_model.predict(pca_test)\n",
    "\n",
    "accuracy = accuracy_score(y_test, y_pred)\n",
    "print(f'Accuracy: {accuracy * 100:.2f}%')"
   ]
  },
  {
   "cell_type": "code",
   "execution_count": 95,
   "metadata": {},
   "outputs": [
    {
     "name": "stdout",
     "output_type": "stream",
     "text": [
      "Accuracy: 97.31%\n",
      "Accuracy: 98.08%\n",
      "Accuracy: 99.62%\n",
      "Accuracy: 98.46%\n",
      "Accuracy: 98.85%\n",
      "Accuracy: 99.23%\n",
      "Accuracy: 99.23%\n",
      "Accuracy: 99.23%\n",
      "Accuracy: 99.23%\n",
      "Accuracy: 98.46%\n",
      "Average Accuracy: 98.77%\n"
     ]
    }
   ],
   "source": [
    "from sklearn.neural_network import MLPClassifier\n",
    "from sklearn.metrics import confusion_matrix\n",
    "import seaborn as sns\n",
    "import matplotlib.pyplot as plt\n",
    "\n",
    "accuracy = []\n",
    "for i in range(10):\n",
    "    mlp_model = MLPClassifier(hidden_layer_sizes=(256,128,64), activation='logistic', max_iter=1000)\n",
    "    mlp_model.fit(x_train, y_train)\n",
    "\n",
    "    y_pred = mlp_model.predict(pca_test)\n",
    "\n",
    "    accuracy.append(accuracy_score(y_test, y_pred))\n",
    "    print(f'Accuracy: {accuracy[i] * 100:.2f}%')\n",
    "    \n",
    "print(f'Average Accuracy: {np.mean(accuracy) * 100:.2f}%')"
   ]
  },
  {
   "cell_type": "code",
   "execution_count": 62,
   "metadata": {},
   "outputs": [
    {
     "name": "stdout",
     "output_type": "stream",
     "text": [
      "Accuracy: 10.00%\n"
     ]
    }
   ],
   "source": [
    "# phân loại bằng SVM\n",
    "from sklearn.svm import SVC\n",
    "\n",
    "svm_model = SVC(C=0.01, gamma=0.1)\n",
    "svm_model.fit(x_train, y_train)\n",
    "\n",
    "y_pred = svm_model.predict(x_test)\n",
    "\n",
    "accuracy = accuracy_score(y_test, y_pred)\n",
    "print(f'Accuracy: {accuracy * 100:.2f}%')"
   ]
  },
  {
   "cell_type": "code",
   "execution_count": 63,
   "metadata": {},
   "outputs": [
    {
     "name": "stdout",
     "output_type": "stream",
     "text": [
      "CPU times: total: 15.6 ms\n",
      "Wall time: 14.1 ms\n",
      "Training accuracy : 1.0000, \n",
      "Test Accuracy: 0.5615\n",
      "min samples split is 2\n",
      "------------------------------------------------------------\n",
      "CPU times: total: 15.6 ms\n",
      "Wall time: 11 ms\n",
      "Training accuracy : 0.9942, \n",
      "Test Accuracy: 0.5769\n",
      "min samples split is 5\n",
      "------------------------------------------------------------\n",
      "CPU times: total: 15.6 ms\n",
      "Wall time: 14.5 ms\n",
      "Training accuracy : 0.9827, \n",
      "Test Accuracy: 0.5538\n",
      "min samples split is 10\n",
      "------------------------------------------------------------\n",
      "CPU times: total: 15.6 ms\n",
      "Wall time: 15 ms\n",
      "Training accuracy : 0.9712, \n",
      "Test Accuracy: 0.5615\n",
      "min samples split is 50\n",
      "------------------------------------------------------------\n",
      "CPU times: total: 15.6 ms\n",
      "Wall time: 11 ms\n",
      "Training accuracy : 0.9327, \n",
      "Test Accuracy: 0.5077\n",
      "min samples split is 100\n",
      "------------------------------------------------------------\n",
      "CPU times: total: 15.6 ms\n",
      "Wall time: 6 ms\n",
      "Training accuracy : 0.7673, \n",
      "Test Accuracy: 0.4577\n",
      "min samples split is 150\n",
      "------------------------------------------------------------\n",
      "CPU times: total: 0 ns\n",
      "Wall time: 3.97 ms\n",
      "Training accuracy : 0.2000, \n",
      "Test Accuracy: 0.1346\n",
      "min samples split is 500\n",
      "------------------------------------------------------------\n"
     ]
    }
   ],
   "source": [
    "# KIỂM TRA THAM SỐ TỐI ƯU CHO Decision Tree classifier\n",
    "check=[2,5,10,50,100,150,500]\n",
    "for i in check:\n",
    "    from sklearn.tree import DecisionTreeClassifier\n",
    "    clf1 = DecisionTreeClassifier(random_state=0,min_samples_split=i)\n",
    "    %time clf1.fit(x_train,y_train)\n",
    "    print(\"Training accuracy : {:.4f}, \\nTest Accuracy: {:.4f}\".format(clf1.score(x_train,y_train),clf1.score(x_test,y_test)))\n",
    "    print(\"min samples split is \"+ str(i))\n",
    "    print(\"------------------------------------------------------------\")"
   ]
  },
  {
   "cell_type": "code",
   "execution_count": 64,
   "metadata": {},
   "outputs": [
    {
     "name": "stdout",
     "output_type": "stream",
     "text": [
      "CPU times: total: 15.6 ms\n",
      "Wall time: 59 ms\n",
      "Training accuracy : 0.9558, \n",
      "Test Accuracy: 0.4192\n",
      "min samples split is 500\n",
      "------------------------------------------------------------\n"
     ]
    },
    {
     "name": "stderr",
     "output_type": "stream",
     "text": [
      "c:\\Users\\HUY\\AppData\\Local\\Programs\\Python\\Python312\\Lib\\site-packages\\sklearn\\linear_model\\_logistic.py:1247: FutureWarning: 'multi_class' was deprecated in version 1.5 and will be removed in 1.7. From then on, it will always use 'multinomial'. Leave it to its default value to avoid this warning.\n",
      "  warnings.warn(\n"
     ]
    }
   ],
   "source": [
    "##time to check other classifier out\n",
    "from sklearn.linear_model import LogisticRegression\n",
    "clf2 = LogisticRegression(C=.00001,solver='liblinear',multi_class='auto')\n",
    "%time clf2 = clf2.fit(x_train, y_train)\n",
    "\n",
    "print(\"Training accuracy : {:.4f}, \\nTest Accuracy: {:.4f}\".format(clf2.score(x_train,y_train),clf2.score(x_test,y_test)))\n",
    "print(\"min samples split is \"+ str(i))\n",
    "print(\"------------------------------------------------------------\")"
   ]
  },
  {
   "cell_type": "code",
   "execution_count": 65,
   "metadata": {},
   "outputs": [
    {
     "name": "stdout",
     "output_type": "stream",
     "text": [
      "CPU times: total: 109 ms\n",
      "Wall time: 186 ms\n",
      "Training accuracy : 0.9558, \n",
      "Test Accuracy: 0.4192\n",
      "C chosen is 1\n",
      "-----------------------------------------------------------------------\n",
      "CPU times: total: 141 ms\n",
      "Wall time: 141 ms\n",
      "Training accuracy : 0.9558, \n",
      "Test Accuracy: 0.4192\n",
      "C chosen is 0.8\n",
      "-----------------------------------------------------------------------\n",
      "CPU times: total: 78.1 ms\n",
      "Wall time: 102 ms\n",
      "Training accuracy : 0.9558, \n",
      "Test Accuracy: 0.4192\n",
      "C chosen is 0.3\n",
      "-----------------------------------------------------------------------\n",
      "CPU times: total: 78.1 ms\n",
      "Wall time: 98.5 ms\n",
      "Training accuracy : 0.9558, \n",
      "Test Accuracy: 0.4192\n",
      "C chosen is 0.1\n",
      "-----------------------------------------------------------------------\n",
      "CPU times: total: 93.8 ms\n",
      "Wall time: 98.5 ms\n",
      "Training accuracy : 0.9558, \n",
      "Test Accuracy: 0.4192\n",
      "C chosen is 0.03\n",
      "-----------------------------------------------------------------------\n",
      "CPU times: total: 46.9 ms\n",
      "Wall time: 55 ms\n",
      "Training accuracy : 0.9558, \n",
      "Test Accuracy: 0.4192\n",
      "C chosen is 0.001\n",
      "-----------------------------------------------------------------------\n",
      "CPU times: total: 31.2 ms\n",
      "Wall time: 31.5 ms\n",
      "Training accuracy : 0.9558, \n",
      "Test Accuracy: 0.4192\n",
      "C chosen is 0.0001\n",
      "-----------------------------------------------------------------------\n"
     ]
    }
   ],
   "source": [
    "from sklearn.svm import LinearSVC\n",
    "for i in [1,0.8,0.3,0.1,0.03,0.001,0.0001]:\n",
    "    svm = LinearSVC(C=i)\n",
    "    %time svm = svm.fit(x_train, y_train)\n",
    "    print(\"Training accuracy : {:.4f}, \\nTest Accuracy: {:.4f}\".format(clf2.score(x_train,y_train),clf2.score(x_test,y_test)))\n",
    "    print (\"C chosen is \"+str(i))\n",
    "    print (\"-----------------------------------------------------------------------\")"
   ]
  },
  {
   "cell_type": "code",
   "execution_count": 28,
   "metadata": {},
   "outputs": [
    {
     "name": "stdout",
     "output_type": "stream",
     "text": [
      "CPU times: total: 62.5 ms\n",
      "Wall time: 62.6 ms\n",
      "Training accuracy: 1.0000, Test Accuracy: 0.3143\n"
     ]
    },
    {
     "name": "stderr",
     "output_type": "stream",
     "text": [
      "c:\\Users\\HUY\\AppData\\Local\\Programs\\Python\\Python312\\Lib\\site-packages\\sklearn\\linear_model\\_logistic.py:1247: FutureWarning: 'multi_class' was deprecated in version 1.5 and will be removed in 1.7. From then on, it will always use 'multinomial'. Leave it to its default value to avoid this warning.\n",
      "  warnings.warn(\n"
     ]
    }
   ],
   "source": [
    "clf = LogisticRegression(C=.01,solver ='lbfgs',multi_class='auto',max_iter=250)\n",
    "%time clf = clf.fit(x_train, y_train)\n",
    "y_train_pred=clf.predict(x_train)\n",
    "y_test_pred=clf.predict(x_test)\n",
    "print(\"Training accuracy: {:.4f}, Test Accuracy: {:.4f}\".format(accuracy_score(y_train_pred, y_train), accuracy_score(y_test_pred, y_test)))"
   ]
  },
  {
   "cell_type": "code",
   "execution_count": 11,
   "metadata": {},
   "outputs": [],
   "source": [
    "# Thử dùng RVM classifier thử xem"
   ]
  },
  {
   "cell_type": "code",
   "execution_count": 15,
   "metadata": {},
   "outputs": [
    {
     "name": "stdout",
     "output_type": "stream",
     "text": [
      "(280, 32) <class 'numpy.ndarray'>\n",
      "(280,) <class 'numpy.ndarray'>\n"
     ]
    }
   ],
   "source": [
    "print(x_train.shape, type(x_train))\n",
    "print(y_train.shape, type(y_train))\n",
    "# data_to_save = np.hstack((x_train, y_train.reshape(-1, 1)))\n"
   ]
  },
  {
   "cell_type": "code",
   "execution_count": null,
   "metadata": {},
   "outputs": [],
   "source": [
    "# # 5. Implement MDA manually (optional)\n",
    "# def mda_transform(data, labels, n_components):\n",
    "#     data = np.array(data) if not isinstance(data, np.ndarray) else data\n",
    "#     labels = np.array(labels) if not isinstance(labels, np.ndarray) else labels\n",
    "    \n",
    "#     unique_classes = np.unique(labels)\n",
    "#     mean_total = np.mean(data, axis=0)\n",
    "#     S_b = np.zeros((data.shape[1], data.shape[1]))\n",
    "#     S_w = np.zeros((data.shape[1], data.shape[1]))\n",
    "    \n",
    "#     for cls in unique_classes:\n",
    "#         class_data = data[labels == cls]\n",
    "#         mean_class = np.mean(class_data, axis=0)\n",
    "#         S_b += len(class_data) * np.outer(mean_class - mean_total, mean_class - mean_total)\n",
    "#         S_w += np.cov(class_data, rowvar=False) * (len(class_data) - 1)\n",
    "    \n",
    "#     eigvals, eigvecs = np.linalg.eigh(np.linalg.pinv(S_w).dot(S_b))\n",
    "#     sorted_indices = np.argsort(eigvals)[::-1]\n",
    "#     eigvecs = eigvecs[:, sorted_indices[:n_components]]\n",
    "#     transformed_data = np.dot(data, eigvecs)\n",
    "#     return transformed_data, eigvecs"
   ]
  }
 ],
 "metadata": {
  "kernelspec": {
   "display_name": "Python 3",
   "language": "python",
   "name": "python3"
  },
  "language_info": {
   "codemirror_mode": {
    "name": "ipython",
    "version": 3
   },
   "file_extension": ".py",
   "mimetype": "text/x-python",
   "name": "python",
   "nbconvert_exporter": "python",
   "pygments_lexer": "ipython3",
   "version": "3.12.6"
  }
 },
 "nbformat": 4,
 "nbformat_minor": 2
}
