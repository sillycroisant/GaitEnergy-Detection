{
 "cells": [
  {
   "cell_type": "code",
   "execution_count": 2,
   "metadata": {},
   "outputs": [],
   "source": [
    "import cv2\n",
    "import numpy as np\n",
    "import os\n",
    "\n",
    "# showing image\n",
    "def show_image(image, title=\"Image\", scale=5):\n",
    "    h, w = image.shape\n",
    "    resized_image = cv2.resize(image, (w * scale, h * scale), interpolation=cv2.INTER_NEAREST)\n",
    "    cv2.imshow(title, resized_image)\n",
    "    cv2.waitKey(0)\n",
    "    cv2.destroyAllWindows()\n",
    "    \n",
    "# load data\n",
    "\n",
    "final_data = \"C:/Users/HUY/Desktop/my_project/final_data\"\n",
    "synthetic_path = \"C:/Users/HUY/Desktop/my_project/synthetic_data\"\n",
    "\n",
    "# tải dữ liệu dựa theo góc của dáng đi\n",
    "def load_view(folder_paths, view):\n",
    "    train, test = [], []\n",
    "    train_view = []\n",
    "    test_view = []\n",
    "    for folder in os.listdir(folder_paths):\n",
    "        if folder == \"train\":\n",
    "            tr_labels = []\n",
    "            for img in os.listdir(f\"{folder_paths}/{folder}\"):\n",
    "                if view in img:\n",
    "                    im = np.array(cv2.imread(f\"{folder_paths}/{folder}/{img}\", cv2.IMREAD_GRAYSCALE))\n",
    "                    tr_labels.append(img[0:3])\n",
    "                    train.append(im)\n",
    "                    train_view.append(view)\n",
    "        if folder == \"test\":\n",
    "            te_labels = []\n",
    "            for img in os.listdir(f\"{folder_paths}/{folder}\"):\n",
    "                if view in img:\n",
    "                    im = np.array(cv2.imread(f\"{folder_paths}/{folder}/{img}\", cv2.IMREAD_GRAYSCALE))\n",
    "                    te_labels.append(img[0:3])\n",
    "                    test.append(im)\n",
    "                    test_view.append(view)\n",
    "    print(f\"Hoàn thành tải dữ liệu lên từ {folder_paths} với góc {view} độ\")\n",
    "    return train, test, tr_labels, te_labels, train_view, test_view\n",
    "\n",
    "\n",
    "# tải dữ liệu dáng đi với tất cả các góc\n",
    "def load_data(view = \"crossview\"):\n",
    "    \n",
    "    views = [\"000\",\"018\",\"036\",\"054\",\"072\",\"090\",\"108\",\"126\",\"144\",\"162\",\"180\"]\n",
    "    x_train, y_train = [], []\n",
    "    x_test, y_test = [], []\n",
    "    train_view, test_view = [], []\n",
    "    \n",
    "    if view in views:\n",
    "        views = [view]\n",
    "    \n",
    "    for view in views:\n",
    "        x_rtrain_view, x_rtest_view, y_rtrain_view, y_rtest_view, rtrain_view, rtest_view = load_view(final_data, view)\n",
    "        x_strain_view, x_stest_view, y_strain_view, y_stest_view, strain_view, stest_view = load_view(synthetic_path, view)\n",
    "        \n",
    "        x_train = x_train + x_rtrain_view + x_strain_view\n",
    "        y_train = y_train + y_rtrain_view + y_strain_view\n",
    "        x_test = x_test + x_rtest_view + x_stest_view\n",
    "        y_test = y_test + y_rtest_view + y_stest_view\n",
    "        train_view = train_view + rtrain_view + strain_view\n",
    "        test_view = test_view + rtest_view + stest_view\n",
    "        \n",
    "    print(f\"✅ Kích thước tập train và nhãn: {len(x_train)} và {len(y_train)}\")\n",
    "    print(f\"✅ Kích thước tập test và nhãn: {len(x_test)} và {len(y_test)}\")\n",
    "    return x_train, y_train, x_test, y_test, train_view, test_view"
   ]
  },
  {
   "cell_type": "code",
   "execution_count": 3,
   "metadata": {},
   "outputs": [
    {
     "name": "stdout",
     "output_type": "stream",
     "text": [
      "Hoàn thành tải dữ liệu lên từ C:/Users/HUY/Desktop/my_project/final_data với góc 000 độ\n",
      "Hoàn thành tải dữ liệu lên từ C:/Users/HUY/Desktop/my_project/synthetic_data với góc 000 độ\n",
      "Hoàn thành tải dữ liệu lên từ C:/Users/HUY/Desktop/my_project/final_data với góc 018 độ\n",
      "Hoàn thành tải dữ liệu lên từ C:/Users/HUY/Desktop/my_project/synthetic_data với góc 018 độ\n",
      "Hoàn thành tải dữ liệu lên từ C:/Users/HUY/Desktop/my_project/final_data với góc 036 độ\n",
      "Hoàn thành tải dữ liệu lên từ C:/Users/HUY/Desktop/my_project/synthetic_data với góc 036 độ\n",
      "Hoàn thành tải dữ liệu lên từ C:/Users/HUY/Desktop/my_project/final_data với góc 054 độ\n",
      "Hoàn thành tải dữ liệu lên từ C:/Users/HUY/Desktop/my_project/synthetic_data với góc 054 độ\n",
      "Hoàn thành tải dữ liệu lên từ C:/Users/HUY/Desktop/my_project/final_data với góc 072 độ\n",
      "Hoàn thành tải dữ liệu lên từ C:/Users/HUY/Desktop/my_project/synthetic_data với góc 072 độ\n",
      "Hoàn thành tải dữ liệu lên từ C:/Users/HUY/Desktop/my_project/final_data với góc 090 độ\n",
      "Hoàn thành tải dữ liệu lên từ C:/Users/HUY/Desktop/my_project/synthetic_data với góc 090 độ\n",
      "Hoàn thành tải dữ liệu lên từ C:/Users/HUY/Desktop/my_project/final_data với góc 108 độ\n",
      "Hoàn thành tải dữ liệu lên từ C:/Users/HUY/Desktop/my_project/synthetic_data với góc 108 độ\n",
      "Hoàn thành tải dữ liệu lên từ C:/Users/HUY/Desktop/my_project/final_data với góc 126 độ\n",
      "Hoàn thành tải dữ liệu lên từ C:/Users/HUY/Desktop/my_project/synthetic_data với góc 126 độ\n",
      "Hoàn thành tải dữ liệu lên từ C:/Users/HUY/Desktop/my_project/final_data với góc 144 độ\n",
      "Hoàn thành tải dữ liệu lên từ C:/Users/HUY/Desktop/my_project/synthetic_data với góc 144 độ\n",
      "Hoàn thành tải dữ liệu lên từ C:/Users/HUY/Desktop/my_project/final_data với góc 162 độ\n",
      "Hoàn thành tải dữ liệu lên từ C:/Users/HUY/Desktop/my_project/synthetic_data với góc 162 độ\n",
      "Hoàn thành tải dữ liệu lên từ C:/Users/HUY/Desktop/my_project/final_data với góc 180 độ\n",
      "Hoàn thành tải dữ liệu lên từ C:/Users/HUY/Desktop/my_project/synthetic_data với góc 180 độ\n",
      "✅ Kích thước tập train và nhãn: 5668 và 5668\n",
      "✅ Kích thước tập test và nhãn: 2834 và 2834\n"
     ]
    }
   ],
   "source": [
    "x_train, y_train, x_test, y_test, train_view, test_view = load_data(view = \"crossview\")"
   ]
  },
  {
   "cell_type": "code",
   "execution_count": 113,
   "metadata": {},
   "outputs": [
    {
     "name": "stdout",
     "output_type": "stream",
     "text": [
      "Kích thước của tập train và test sau khi PCA: (5668, 16) (2834, 16)\n",
      "✅ Đã tạo file data_train.csv thành công!\n",
      "✅ Đã tạo file data_test.csv thành công!\n"
     ]
    }
   ],
   "source": [
    "import pandas as pd\n",
    "from sklearn.decomposition import PCA  \n",
    "\n",
    "# 95 -> 14 ~ 13\n",
    "# 96 -> 15 ~ 14\n",
    "# 97 -> 16 ~ 15\n",
    "# 98 -> 17 ~ 16\n",
    "# 99 -> 18 ~ 17\n",
    "# ==> chọn số component = 16 = 2^4\n",
    "\n",
    "pca = PCA(n_components = 16)\n",
    "x_train = pca.fit_transform([x.flatten() for x in x_train])\n",
    "x_test = pca.transform([x.flatten() for x in x_test])\n",
    "\n",
    "print(f\"Kích thước của tập train và test sau khi PCA: {x_train.shape} {x_test.shape}\")\n",
    "\n",
    "data_path = ['data_train.csv', 'data_test.csv']\n",
    "\n",
    "df_train = pd.DataFrame(x_train)\n",
    "df_train['label'] = y_train\n",
    "df_train['view'] = train_view\n",
    "df_train.to_csv( data_path[0], index=False)\n",
    "\n",
    "df_test = pd.DataFrame(x_test)\n",
    "df_test['label'] = y_test\n",
    "df_test['view'] = test_view\n",
    "df_test.to_csv( data_path[1], index=False)\n",
    "\n",
    "for path in data_path:\n",
    "    if os.path.exists(path):\n",
    "        print(f\"✅ Đã tạo file {path} thành công!\")"
   ]
  },
  {
   "cell_type": "code",
   "execution_count": null,
   "metadata": {},
   "outputs": [],
   "source": [
    "# Đã hoàn thành trích xuất đặc trưng bằng PCA cho dataset\n",
    "# Lưu các đặc trưng đó thành các file csv để xử lý sau\n",
    "# ===> OKE"
   ]
  }
 ],
 "metadata": {
  "kernelspec": {
   "display_name": "Python 3",
   "language": "python",
   "name": "python3"
  },
  "language_info": {
   "codemirror_mode": {
    "name": "ipython",
    "version": 3
   },
   "file_extension": ".py",
   "mimetype": "text/x-python",
   "name": "python",
   "nbconvert_exporter": "python",
   "pygments_lexer": "ipython3",
   "version": "3.12.6"
  }
 },
 "nbformat": 4,
 "nbformat_minor": 2
}
