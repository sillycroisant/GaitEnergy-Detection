{
 "cells": [
  {
   "cell_type": "code",
   "execution_count": 18,
   "metadata": {},
   "outputs": [],
   "source": [
    "import os\n",
    "import cv2\n",
    "import math\n",
    "import numpy as np\n",
    "from sklearn.decomposition import PCA\n",
    "from sklearn.discriminant_analysis import LinearDiscriminantAnalysis as MDA\n",
    "from scipy.spatial.distance import cdist\n",
    "from sklearn.metrics.pairwise import cosine_similarity\n",
    "from PIL import Image"
   ]
  },
  {
   "cell_type": "code",
   "execution_count": 19,
   "metadata": {},
   "outputs": [],
   "source": [
    "# 1. Preprocess silhouettes (đã test xong) chạy oke\n",
    "# chuyển ảnh silhoute thành ảnh nhị phân trắng đen\n",
    "def preprocess_silhouettes(folder_path):\n",
    "    silhouettes = []\n",
    "    image_paths = [os.path.join(folder_path, f) for f in os.listdir(folder_path) if f.lower().endswith(('.png', '.jpg', '.jpeg'))]\n",
    "    \n",
    "    if not image_paths:\n",
    "        raise ValueError(\"No valid image files found in the folder.\")\n",
    "    \n",
    "    for path in image_paths:\n",
    "        img = cv2.imread(path, cv2.IMREAD_GRAYSCALE)\n",
    "        \n",
    "        if img is None:\n",
    "            print(f\"⚠️ Warning: Cannot read image at {path}\")\n",
    "            break\n",
    "        \n",
    "        _, binary = cv2.threshold(img, 127, 1, cv2.THRESH_BINARY)\n",
    "        silhouettes.append(binary)\n",
    "        \n",
    "    if not silhouettes:\n",
    "        raise ValueError(\"No Valid images were processed. Check file paths\")\n",
    "    \n",
    "    return np.array(silhouettes)\n",
    "\n",
    "# 2. Compute Gait Energy Image (GEI) (chạy oke)\n",
    "# sử dụng ảnh silhoute trắng đen trước đó để tính ảnh GEI\n",
    "def compute_gei(silhouettes):\n",
    "    return np.mean(silhouettes, axis=0)\n",
    "\n",
    "def show_image(image, title=\"Image\", scale=7):\n",
    "    h, w = image.shape[0], image.shape[1]\n",
    "    resized_image = cv2.resize(image, (w * scale, h * scale), interpolation=cv2.INTER_NEAREST)\n",
    "    cv2.imshow(title, resized_image)\n",
    "    cv2.waitKey(0)\n",
    "    cv2.destroyAllWindows()\n",
    "    \n",
    "# lưu ảnh vào thư mục đã chọn\n",
    "def save_image(image, folder_path, image_name):\n",
    "    if not os.path.exists(folder_path):\n",
    "        os.makedirs(folder_path)\n",
    "    save_path = os.path.join(folder_path, image_name)\n",
    "    cv2.imwrite(save_path, image)\n",
    "    # print(f\"✅ Image saved at {save_path}\")\n",
    "\n",
    "root_folder = \"data\"\n",
    "gei_path = \"GEI\"\n",
    "\n",
    "def gei_img_process(root_folder):\n",
    "    for object in os.listdir(root_folder):\n",
    "        if not os.path.exists(f\"{gei_path}/{object}\"):\n",
    "            os.makedirs(f\"{gei_path}/{object}\")\n",
    "        for folder in os.listdir(f\"{root_folder}/{object}\"):\n",
    "            a = 0\n",
    "            if not os.path.exists(f\"{gei_path}/{object}/{folder}\"):\n",
    "                os.makedirs(f\"{gei_path}/{object}/{folder}\")\n",
    "            for direction in os.listdir(f\"{root_folder}/{object}/{folder}\"):\n",
    "                # binary_imgs = preprocess_silhouettes(f\"{root_folder}/{object}/{folder}/{direction}\")\n",
    "                # gei = compute_gei(binary_imgs)\n",
    "                # save_image((gei*255).astype(np.uint8),f\"{gei_path}/{object}/{folder}\", f\"{direction}.jpg\")\n",
    "                a += 1\n",
    "    print(\"Processed all Gait Energy imgs!\")\n",
    "\n",
    "def load_data(folder_paths, view):\n",
    "    gallery, probe = [], []\n",
    "    prob = [\"nm-04\", \"nm-05\", \"nm-06\"]\n",
    "    gall = [\"nm-01\", \"nm-02\", \"nm-03\"]\n",
    "    gal_token, prob_token = [], []\n",
    "    for object in os.listdir(folder_paths):\n",
    "        gcnt, pcnt = 0, 0\n",
    "        for type in os.listdir(f\"{folder_paths}/{object}\"):\n",
    "            for dir in os.listdir(f\"{folder_paths}/{object}/{type}\"):\n",
    "                # print(dir[0:3], view)\n",
    "                if dir[0:3] == str(view):\n",
    "                    # img = cv2.imread(f\"{folder_paths}/{object}/{type}/{dir}\", cv2.IMREAD_GRAYSCALE)\n",
    "                    img = Image.open(f\"{folder_paths}/{object}/{type}/{dir}\")\n",
    "                    img = np.array(img)\n",
    "                    if(type in prob):\n",
    "                        pcnt += 1\n",
    "                        probe.append(img)\n",
    "                    elif(type in gall):\n",
    "                        gcnt += 1\n",
    "                        gallery.append(img)\n",
    "        gal_token.append(gcnt)\n",
    "        prob_token.append(pcnt)\n",
    "\n",
    "    print(f\"Loaded {len(gallery)} imgs to gallery\")\n",
    "    print(f\"Loaded {len(probe)} imgs to probe!\")\n",
    "    print(gal_token)\n",
    "    print(prob_token)\n",
    "    return gallery, probe, gal_token, prob_token\n",
    "\n",
    "def synthetic_templates(real_imgs, iter = 3, k = 2):\n",
    "    x, y = real_imgs[0].shape\n",
    "    \n",
    "    synthetic_templates = []\n",
    "    h = 2, max(x, y)\n",
    "    \n",
    "    for img in real_imgs:\n",
    "        for i in range(1,1+iter):\n",
    "            temp = np.copy(img)\n",
    "            # remove k*i rows from the bottoms of the original img\n",
    "            cut_bot = temp[0:x-i*k, 0:y]\n",
    "            d = math.floor(x*y/(x-i*k))\n",
    "            # resize the remaining template\n",
    "            cut_bot = cv2.resize(cut_bot, (d, x))\n",
    "            # equally cut left and right borders to generate a x*y size synthetic template\n",
    "            cut_bot = cut_bot[:,i:d-i]\n",
    "            \n",
    "            cut_top = temp[i*k:x, 0:y]\n",
    "            cut_top = cv2.resize(cut_top, (d, x))\n",
    "            cut_top = cut_top[:,i:d-i]\n",
    "            if cut_bot.shape[1] == 65: \n",
    "                cut_bot = cut_bot[:,1:65]\n",
    "            if cut_top.shape[1] == 65:\n",
    "                cut_top = cut_top[:, 1:65]\n",
    "                \n",
    "            synthetic_templates.append(cut_bot)\n",
    "            synthetic_templates.append(cut_top)\n",
    "    \n",
    "    print(f\"Created {iter*k*len(real_imgs)} synthetic temples!\")\n",
    "    return synthetic_templates\n",
    "\n",
    "# tạo labels để đưa vào hàm MDA\n",
    "def create_labels(gallery_imgs_per_object, probe_imgs_per_object, labels_token):\n",
    "    real_labels, probe_labels = [], []\n",
    "    gallery_size, probe_size = gallery_imgs_per_object ,probe_imgs_per_object\n",
    "      \n",
    "    for i, object in enumerate(labels_token):\n",
    "        for _ in range(object*gallery_size):\n",
    "            real_labels.append(i+1)\n",
    "        \n",
    "    for i, object in enumerate(labels_token):\n",
    "        for _ in range(object*probe_size):\n",
    "            probe_labels.append(i+1)\n",
    "        \n",
    "    print(f\"Created {len(real_labels)} real labels\")\n",
    "    print(f\"Created {len(probe_labels)} probe labels\")\n",
    "    return real_labels, probe_labels"
   ]
  },
  {
   "cell_type": "code",
   "execution_count": 20,
   "metadata": {},
   "outputs": [
    {
     "name": "stdout",
     "output_type": "stream",
     "text": [
      "Processed all Gait Energy imgs!\n",
      "Loaded 30 imgs to gallery\n",
      "Loaded 30 imgs to probe!\n",
      "[3, 3, 3, 3, 3, 3, 3, 3, 3, 3]\n",
      "[3, 3, 3, 3, 3, 3, 3, 3, 3, 3]\n",
      "Created 180 synthetic temples!\n",
      "Created 180 synthetic temples!\n",
      "Created 30 real labels\n",
      "Created 30 probe labels\n",
      "Created 180 real labels\n",
      "Created 180 probe labels\n"
     ]
    }
   ],
   "source": [
    "# Main\n",
    "root_folder = \"C:/Users/HUY/Desktop/University/Năm_4/Kì_8/PBL4/my_project/data\"\n",
    "gei_path = \"C:/Users/HUY/Desktop/University/Năm_4/Kì_8/PBL4/my_project/GEI\"\n",
    "\n",
    "if not os.path.exists(gei_path):\n",
    "    os.makedirs(gei_path)  \n",
    "\n",
    "# xử lý ảnh GEI và lưu lại về và trả về token labels cho mỗi đối tượng trong dataset\n",
    "# xóa comment phần xử lý ảnh trong hàm gei_img_process nếu chưa có dữ liệu ảnh GEI hoặc thêm/bớt dữ liệu\n",
    "gei_img_process(root_folder)\n",
    "\n",
    "# tải data lên lại để xử lý, lấy góc 090 do bài toán trước mắt chỉ xử lý gốc độ này\n",
    "view = \"090\"\n",
    "real_gallery, real_probe, gallery_token, probe_token = load_data(gei_path, view)\n",
    "\n",
    "# tạo thêm ảnh synthetic cho gallery và probe\n",
    "synthetic_gallery = synthetic_templates(real_gallery)\n",
    "synthetic_probe = synthetic_templates(real_probe)\n",
    "\n",
    "# tạo labels để sử dụng trong hàm MDA\n",
    "real_gallery_labels, real_probe_labels = create_labels(1, 1, gallery_token)\n",
    "syn_gallery_labels, syn_probe_labels = create_labels(6, 6, gallery_token)\n",
    "\n",
    "# hết cả đoạn code trên chạy tốn khoảng 1 giây, khi ko cần xử lý ảnh GEI trong gei_img_process :>"
   ]
  },
  {
   "cell_type": "code",
   "execution_count": 22,
   "metadata": {},
   "outputs": [
    {
     "data": {
      "text/plain": [
       "(64, 64)"
      ]
     },
     "execution_count": 22,
     "metadata": {},
     "output_type": "execute_result"
    }
   ],
   "source": [
    "synthetic_gallery[5].shape\n"
   ]
  },
  {
   "cell_type": "code",
   "execution_count": 23,
   "metadata": {},
   "outputs": [],
   "source": [
    "def pca_transform(data, n_components):\n",
    "    for i in range(len(data)):\n",
    "        data[i] = data[i].flatten()\n",
    "        \n",
    "    mean = np.mean(data)\n",
    "    centered_data = data - mean\n",
    "    covariance_matrix = np.cov(centered_data, rowvar=False)\n",
    "    eigenvalues, eigenvectors = np.linalg.eigh(covariance_matrix)\n",
    "    sorted_indices = np.argsort(eigenvalues)[::1]\n",
    "    eigenvectors = eigenvectors[:,sorted_indices[:n_components]]\n",
    "    transformed_data = np.dot(centered_data, eigenvectors)\n",
    "    return eigenvalues, eigenvectors, mean, transformed_data\n",
    "\n",
    "''' trả về giá trị mean để sử dụng như đầu vào Transform matrix để thực hiện\n",
    "chuẩn hóa tập dữ liệu synthetic theo tâp dữ thựcthực'''\n",
    "\n",
    "# Khối số 4 : Feature space transformation\n",
    "def pca_feature_transfrom(data, mean, n_components):\n",
    "    for i in range(len(data)):\n",
    "        data[i] = data[i].flatten()\n",
    "        \n",
    "    centered_data = data - mean\n",
    "    covariance_matrix = np.cov(centered_data, rowvar=False)\n",
    "    eigenvalues, eigenvectors = np.linalg.eigh(covariance_matrix)\n",
    "    sorted_indices = np.argsort(eigenvalues)[::1]\n",
    "    eigenvectors = eigenvectors[:,sorted_indices[:n_components]]\n",
    "    transformed_data = np.dot(centered_data, eigenvectors)\n",
    "    return eigenvalues, eigenvectors, transformed_data"
   ]
  },
  {
   "cell_type": "code",
   "execution_count": 24,
   "metadata": {},
   "outputs": [],
   "source": [
    "# Khối số 3 : Component and Discriminant analysis\n",
    "# TRÍCH XUẤT ĐẶC TRƯNG\n",
    "c = 10 # số đối tượng nhận diện trong tâp dữ liệu\n",
    "n_comp = 2 * c\n",
    "mda_comp = c - 1\n",
    "\n",
    "# real_gallery --> pca --> real_mean --> pca_transform(real_probe) --> rp_transformed --> mda --> rp_feature\n",
    "#                   \\--> rg_transformed --> mda --> rg_feature\n"
   ]
  },
  {
   "cell_type": "code",
   "execution_count": 25,
   "metadata": {},
   "outputs": [],
   "source": [
    "# this may take around 1 minute to run\n",
    "rg_values , rg_vectors, real_mean, rg_transformed = pca_transform(real_gallery, n_comp) # 1 \n",
    "_, _, rp_transformed = pca_feature_transfrom(real_probe, real_mean, n_comp) # 3"
   ]
  },
  {
   "cell_type": "code",
   "execution_count": 26,
   "metadata": {},
   "outputs": [],
   "source": [
    "# this may take around 1 minute to run\n",
    "sg_values, sg_vectors, syn_mean, sg_transformed = pca_transform(synthetic_gallery, n_comp) # 2\n",
    "_, _, sp_transforemd= pca_feature_transfrom(synthetic_probe, syn_mean, n_comp) # 4"
   ]
  },
  {
   "cell_type": "code",
   "execution_count": 27,
   "metadata": {},
   "outputs": [
    {
     "data": {
      "text/plain": [
       "((30, 20), (30,))"
      ]
     },
     "execution_count": 27,
     "metadata": {},
     "output_type": "execute_result"
    }
   ],
   "source": [
    "rg_transformed.shape, np.array(real_gallery_labels).shape"
   ]
  },
  {
   "cell_type": "code",
   "execution_count": 28,
   "metadata": {},
   "outputs": [
    {
     "data": {
      "text/plain": [
       "((30, 9), (180, 9), (30, 9), (180, 9))"
      ]
     },
     "execution_count": 28,
     "metadata": {},
     "output_type": "execute_result"
    }
   ],
   "source": [
    "mda = MDA(n_components=mda_comp)\n",
    "rg_feature = mda.fit_transform(rg_transformed, real_gallery_labels) # 1\n",
    "sg_feature = mda.fit_transform(sg_transformed, syn_gallery_labels) # 2\n",
    "rp_feature = mda.fit_transform(rp_transformed, real_probe_labels) # 3\n",
    "sp_feature = mda.fit_transform(sp_transforemd, syn_probe_labels) # 4\n",
    "\n",
    "rg_feature.shape, sg_feature.shape, rp_feature.shape, sp_feature.shape"
   ]
  },
  {
   "cell_type": "code",
   "execution_count": null,
   "metadata": {},
   "outputs": [
    {
     "data": {
      "text/plain": [
       "((30, 30), (180, 180))"
      ]
     },
     "execution_count": 29,
     "metadata": {},
     "output_type": "execute_result"
    }
   ],
   "source": [
    "real_sim = cosine_similarity(rg_feature, rp_feature)\n",
    "synthetic_sim = cosine_similarity(sg_feature, sp_feature)\n",
    "\n",
    "real_sim.shape, synthetic_sim.shape"
   ]
  },
  {
   "cell_type": "code",
   "execution_count": null,
   "metadata": {},
   "outputs": [],
   "source": [
    "real_sim"
   ]
  },
  {
   "cell_type": "code",
   "execution_count": 37,
   "metadata": {},
   "outputs": [
    {
     "name": "stdout",
     "output_type": "stream",
     "text": [
      "Độ chính xác:  86.66666666666667 %\n"
     ]
    }
   ],
   "source": [
    "# index of first occurrence of each value\n",
    "real_pred = []\n",
    "\n",
    "for i in range(len(synthetic_sim)):\n",
    "    real_pred.append(max(synthetic_sim[i]))\n",
    "    \n",
    "# print(len(real_pred))\n",
    "real_pred_labels = []\n",
    "for i in range(len(synthetic_sim)):\n",
    "    temp = (np.where(synthetic_sim[i]==real_pred[i]))\n",
    "    real_pred_labels.append(temp[0][0])\n",
    "\n",
    "accuracy = 0.0\n",
    "for i in range(len(real_pred_labels)):\n",
    "    if syn_probe_labels[real_pred_labels[i]] == syn_probe_labels[i]:\n",
    "        accuracy += 1\n",
    "    \n",
    "accuracy = (accuracy / float(len(real_probe_labels)))*100\n",
    "print( \"Độ chính xác: \", accuracy,\"%\")"
   ]
  },
  {
   "cell_type": "code",
   "execution_count": 36,
   "metadata": {},
   "outputs": [
    {
     "name": "stdout",
     "output_type": "stream",
     "text": [
      "Độ chính xác:  0.0 %\n"
     ]
    }
   ],
   "source": [
    "# index of first occurrence of each value\n",
    "real_pred = []\n",
    "\n",
    "for i in range(len(real_sim)):\n",
    "    real_pred.append(max(real_sim[i]))\n",
    "    \n",
    "# print(len(real_pred))\n",
    "real_pred_labels = []\n",
    "for i in range(len(real_sim)):\n",
    "    temp = (np.where(real_sim[i]==real_pred[i]))\n",
    "    real_pred_labels.append(temp[0][0])\n",
    "\n",
    "accuracy = 0.0\n",
    "for i in range(len(real_pred_labels)):\n",
    "    if real_probe_labels[real_pred_labels[i]] == real_probe_labels[i]:\n",
    "        accuracy += 1\n",
    "    \n",
    "accuracy = (accuracy / float(len(real_probe_labels)))*100\n",
    "print( \"Độ chính xác: \", accuracy,\"%\")"
   ]
  }
 ],
 "metadata": {
  "kernelspec": {
   "display_name": "Python 3",
   "language": "python",
   "name": "python3"
  },
  "language_info": {
   "codemirror_mode": {
    "name": "ipython",
    "version": 3
   },
   "file_extension": ".py",
   "mimetype": "text/x-python",
   "name": "python",
   "nbconvert_exporter": "python",
   "pygments_lexer": "ipython3",
   "version": "3.12.6"
  }
 },
 "nbformat": 4,
 "nbformat_minor": 2
}
