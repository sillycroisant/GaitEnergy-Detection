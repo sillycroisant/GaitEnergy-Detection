{
 "cells": [
  {
   "cell_type": "code",
   "execution_count": 1,
   "metadata": {},
   "outputs": [],
   "source": [
    "import cv2\n",
    "import numpy as np\n",
    "import os\n",
    "\n",
    "# 1. Preprocess silhouettes (đã test xong) chạy oke\n",
    "def preprocess_silhouettes(folder_path):\n",
    "    silhouettes = []\n",
    "    image_paths = [os.path.join(folder_path, f) for f in os.listdir(folder_path) if f.lower().endswith(('.png', '.jpg', '.jpeg'))]\n",
    "    \n",
    "    if not image_paths:\n",
    "        raise ValueError(\"No valid image files found in the folder.\")\n",
    "    \n",
    "    for path in image_paths:\n",
    "        img = cv2.imread(path, cv2.IMREAD_GRAYSCALE)\n",
    "        \n",
    "        if img is None:\n",
    "            print(f\"⚠️ Warning: Cannot read image at {path}\")\n",
    "            continue \n",
    "        \n",
    "        _, binary = cv2.threshold(img, 127, 1, cv2.THRESH_BINARY)\n",
    "        silhouettes.append(binary)\n",
    "        \n",
    "    if not silhouettes:\n",
    "        raise ValueError(\"No Valid images were processed. Check file paths\")\n",
    "    \n",
    "    return np.array(silhouettes)\n",
    "\n",
    "folder_paths = \"data/001/bg-01/108\"\n",
    "binary_imgs = preprocess_silhouettes(folder_paths)\n",
    "\n"
   ]
  },
  {
   "cell_type": "code",
   "execution_count": 35,
   "metadata": {},
   "outputs": [],
   "source": [
    "# 2. Compute Gait Energy Image (GEI) (chạy oke)\n",
    "def compute_gei(silhouettes):\n",
    "    return np.mean(silhouettes, axis=0)\n",
    "\n",
    "def show_image(image, title=\"Image\", scale=5):\n",
    "    h, w = image.shape\n",
    "    resized_image = cv2.resize(image, (w * scale, h * scale), interpolation=cv2.INTER_NEAREST)\n",
    "    cv2.imshow(title, resized_image)\n",
    "    cv2.waitKey(0)\n",
    "    cv2.destroyAllWindows()\n",
    "\n",
    "\n",
    "gei = compute_gei(binary_imgs)\n",
    "show_image(gei)"
   ]
  },
  {
   "cell_type": "code",
   "execution_count": 36,
   "metadata": {},
   "outputs": [],
   "source": [
    "# Save Gait Energy Im\n",
    "def save_image(image, folder_path, image_name):\n",
    "    if not os.path.exists(folder_path):\n",
    "        os.makedirs(folder_path)\n",
    "    save_path = os.path.join(folder_path, image_name)\n",
    "    cv2.imwrite(save_path, image)\n",
    "    print(f\"✅ Image saved at {save_path}\")\n",
    "\n",
    "# save_image((gei*255).astype(np.uint8), \"GEI\", f\".jpg\")"
   ]
  },
  {
   "cell_type": "code",
   "execution_count": null,
   "metadata": {},
   "outputs": [],
   "source": [
    "root_folder = \"data\"\n",
    "gei_path = \"GEI\"\n",
    "# create a folder to save all the GEI data\n",
    "if not os.path.exists(gei_path):\n",
    "    os.makedirs(gei_path)  \n",
    "\n",
    "# gei_img_process process all the img frames in EACH sample\n",
    "def gei_img_process(object_data_path):\n",
    "    # mở mỗi folder trong folder đối tượng chính ra ch cho tới khi đối tượng trong folder chỉ là ảnh\n",
    "    # 001 > bg-01 > 000 > <ảnh>\n",
    "    # với mỗi lần mở folder ra cx sẽ tạo ra một folder khác tương ứng với folder đó nhưng thêm chữ GEI vào sau để phân biệt\n",
    "    \n",
    "    for folder in os.listdir(object_data_path):\n",
    "        if not os.path.exists(f\"{gei_path}/{folder}\"):\n",
    "            os.makedirs(f\"{gei_path}/{folder}\")\n",
    "        for type in os.listdir(f\"{object_data_path}/{folder}\"):\n",
    "            binary_imgs = preprocess_silhouettes(f\"{object_data_path}/{folder}/{type}\")\n",
    "            gei = compute_gei(binary_imgs)\n",
    "            save_image((gei*255).astype(np.uint8),f\"{gei_path}/{folder}\", f\"{type}.jpg\")\n",
    "\n",
    "# gei_img_process(\"data/001\")\n",
    "    "
   ]
  },
  {
   "cell_type": "code",
   "execution_count": 73,
   "metadata": {},
   "outputs": [],
   "source": [
    "import math\n",
    "\n",
    "# 3. Generate synthetic GEI templates (oke)\n",
    "def generate_synthetic_gei(gei, distortion_levels=[0.05, 0.1, 0.15]): # Chatgpt\n",
    "    h, w = gei.shape\n",
    "    synthetic_templates = []\n",
    "    for d in distortion_levels:\n",
    "        cutoff = int(h * d)\n",
    "        temp = np.copy(gei)\n",
    "        temp = temp[0:h - cutoff, :] # cắt 1 phần dưới của ảnh GEI # Simulate lower-body silhouette distortion\n",
    "        synthetic_templates.append(cv2.resize(temp, (w, h)))\n",
    "    return synthetic_templates\n",
    "\n",
    "def synthetic_gei(gei, iter = 5): # Self implement\n",
    "    syn_temp = []\n",
    "    x , y = gei.shape\n",
    "    k, i =  1, 1\n",
    "    h = max(x,y)\n",
    "    while(i*k <= h):\n",
    "        temp = np.copy(gei)\n",
    "        temp = temp[0:x-i*k,0:y]\n",
    "        temp = cv2.resize(temp, (x, math.ceil(x*y/(x-i*k))))[0:x,0:y]\n",
    "        syn_temp.append(temp)\n",
    "        i += 1\n",
    "        if(i == iter+1): break\n",
    "        \n",
    "    return syn_temp\n",
    "\n",
    "syn = synthetic_gei(gei)\n",
    "show_image(gei)\n",
    "\n",
    "# for i in syn:\n",
    "#     show_image(i)\n",
    "#     print(i.shape)"
   ]
  },
  {
   "cell_type": "code",
   "execution_count": 77,
   "metadata": {},
   "outputs": [
    {
     "data": {
      "text/plain": [
       "5"
      ]
     },
     "execution_count": 77,
     "metadata": {},
     "output_type": "execute_result"
    }
   ],
   "source": [
    "len(syn)"
   ]
  },
  {
   "cell_type": "code",
   "execution_count": null,
   "metadata": {},
   "outputs": [
    {
     "name": "stdout",
     "output_type": "stream",
     "text": [
      "(64, 39)\n",
      "(64, 39)\n",
      "(64,)\n"
     ]
    }
   ],
   "source": [
    "# 4. Implement PCA manually\n",
    "num_componet = 39\n",
    "\n",
    "def pca_transform(data, n_components):\n",
    "    mean = np.mean(data, axis=0)\n",
    "    centered_data = data - mean\n",
    "    covariance_matrix = np.cov(centered_data, rowvar=False)\n",
    "    eigenvalues, eigenvectors = np.linalg.eigh(covariance_matrix)\n",
    "    sorted_indices = np.argsort(eigenvalues)[::-1]\n",
    "    eigenvectors = eigenvectors[:, sorted_indices[:n_components]]\n",
    "    transformed_data = np.dot(centered_data, eigenvectors)\n",
    "    return transformed_data, eigenvectors, mean\n",
    "\n",
    "data, eigen, m = pca_transform(syn[1], num_componet)\n",
    "print(data.shape)\n",
    "show_image(data)\n",
    "print(eigen.shape)\n",
    "show_image(eigen)\n",
    "print(m.shape)"
   ]
  },
  {
   "cell_type": "code",
   "execution_count": null,
   "metadata": {},
   "outputs": [
    {
     "data": {
      "image/png": "[encoded data removed]",
      "text/plain": [
       "<Figure size 640x480 with 1 Axes>"
      ]
     },
     "metadata": {},
     "output_type": "display_data"
    }
   ],
   "source": [
    "import numpy as np\n",
    "import matplotlib.pyplot as plt\n",
    "from sklearn.decomposition import PCA\n",
    "\n",
    "# Giả sử có dữ liệu 64 x 64\n",
    "X = np.random.rand(100, 64)  # 100 mẫu, 64 đặc trưng\n",
    "\n",
    "# Áp dụng PCA\n",
    "pca = PCA()\n",
    "pca.fit(X)\n",
    "\n",
    "# Tính phương sai tích lũy\n",
    "explained_variance = np.cumsum(pca.explained_variance_ratio_)\n",
    "\n",
    "# Vẽ biểu đồ khuỷu tay\n",
    "plt.plot(range(1, 65), explained_variance, marker='o', linestyle='--')\n",
    "plt.xlabel('Số thành phần chính (k)')\n",
    "plt.ylabel('Tỷ lệ phương sai tích lũy') \n",
    "plt.title('Elbow Method để chọn k')\n",
    "plt.axhline(y=0.900, color='r', linestyle='-')\n",
    "plt.show()"
   ]
  },
  {
   "cell_type": "code",
   "execution_count": null,
   "metadata": {},
   "outputs": [],
   "source": [
    "# 5. Implement MDA manually\n",
    "def mda_transform(data, labels, n_components):\n",
    "    data = np.array(data) if not isinstance(data, np.ndarray) else data\n",
    "    labels = np.array(labels) if not isinstance(labels, np.ndarray) else labels\n",
    "    \n",
    "    unique_classes = np.unique(labels)\n",
    "    mean_total = np.mean(data, axis=0)\n",
    "    S_b = np.zeros((data.shape[1], data.shape[1]))\n",
    "    S_w = np.zeros((data.shape[1], data.shape[1]))\n",
    "    \n",
    "    for cls in unique_classes:\n",
    "        class_data = data[labels == cls]\n",
    "        mean_class = np.mean(class_data, axis=0)\n",
    "        S_b += len(class_data) * np.outer(mean_class - mean_total, mean_class - mean_total)\n",
    "        S_w += np.cov(class_data, rowvar=False) * (len(class_data) - 1)\n",
    "    \n",
    "    eigvals, eigvecs = np.linalg.eigh(np.linalg.pinv(S_w).dot(S_b))\n",
    "    sorted_indices = np.argsort(eigvals)[::-1]\n",
    "    eigvecs = eigvecs[:, sorted_indices[:n_components]]\n",
    "    transformed_data = np.dot(data, eigvecs)\n",
    "    return transformed_data, eigvecs\n",
    "\n",
    "show_image(data)"
   ]
  },
  {
   "cell_type": "code",
   "execution_count": null,
   "metadata": {},
   "outputs": [],
   "source": [
    "\n",
    "# 6. Feature extraction using PCA and MDA\n",
    "def extract_features(train_geis, labels, pca_components=30, mda_components=10):\n",
    "    pca_features, pca_eigenvectors, pca_mean = pca_transform(train_geis.reshape(len(train_geis), -1), pca_components)\n",
    "    mda_features, mda_eigenvectors = mda_transform(pca_features, labels, mda_components)\n",
    "    return mda_features, pca_eigenvectors, mda_eigenvectors, pca_mean\n",
    "\n",
    "# 7. Implement Euclidean distance manually\n",
    "def euclidean_distance(X, Y):\n",
    "    distances = np.zeros((X.shape[0], Y.shape[0]))\n",
    "    for i, x in enumerate(X):\n",
    "        for j, y in enumerate(Y):\n",
    "            distances[i, j] = np.sqrt(np.sum((x - y) ** 2))\n",
    "    return distances\n",
    "\n",
    "# 8. Recognize individuals using Euclidean distance\n",
    "def recognize(probe_features, gallery_features, gallery_labels):\n",
    "    distances = euclidean_distance(probe_features, gallery_features)\n",
    "    predictions = [gallery_labels[np.argmin(d)] for d in distances]\n",
    "    return predictions\n",
    "\n",
    "# Example Usage:\n",
    "\n",
    "# image_paths = [\"path_to_image1.png\", \"path_to_image2.png\", ...]\n",
    "\n",
    "silhouettes = preprocess_silhouettes(folder_paths)\n",
    "gei = compute_gei(silhouettes)\n",
    "# synthetic_geis = generate_synthetic_gei(gei)\n",
    "# \n",
    "# train_features, pca_eig, mda_eig, pca_mean = extract_features([...], [...])\n",
    "# probe_features = np.dot(([...] - pca_mean), pca_eig).dot(mda_eig)\n",
    "# predictions = recognize(probe_features, train_features, [...])"
   ]
  }
 ],
 "metadata": {
  "kernelspec": {
   "display_name": "Python 3",
   "language": "python",
   "name": "python3"
  },
  "language_info": {
   "codemirror_mode": {
    "name": "ipython",
    "version": 3
   },
   "file_extension": ".py",
   "mimetype": "text/x-python",
   "name": "python",
   "nbconvert_exporter": "python",
   "pygments_lexer": "ipython3",
   "version": "3.12.6"
  }
 },
 "nbformat": 4,
 "nbformat_minor": 2
}
